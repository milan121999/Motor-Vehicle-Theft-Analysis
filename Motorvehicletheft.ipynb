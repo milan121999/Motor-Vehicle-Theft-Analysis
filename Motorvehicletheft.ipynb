{
 "cells": [
  {
   "cell_type": "markdown",
   "id": "54d4ee04-605f-4a30-bc3f-3c8e72474145",
   "metadata": {},
   "source": [
    "1. How do the total number of motor vehicle thefts in November and December of 2015 compare to the same months in 2016?"
   ]
  },
  {
   "cell_type": "code",
   "execution_count": null,
   "id": "9389f1fd-62d7-4f30-8841-d271fdab4ff7",
   "metadata": {},
   "outputs": [],
   "source": [
    "import pandas as pd\n",
    "\n",
    "data = pd.read_csv('C:/Users/venki/Downloads/_MVT NOV-DEC 2015.csv')\n",
    "data = pd.read_csv('C:/Users/venki/Downloads/_MVT NOV-DEC 2016.csv')\n",
    "\n",
    "\n",
    "nov_dec_2015['Date Occurred'] = pd.to_datetime(nov_dec_2015['Date Occurred'])\n",
    "nov_dec_2016['Date Occurred'] = pd.to_datetime(nov_dec_2016['Date Occurred'])\n",
    "\n",
    "# Filter for November and December\n",
    "nov_dec_2015_filtered = nov_dec_2015[(nov_dec_2015['Date Occurred'].dt.month == 11) | \n",
    "                                     (nov_dec_2015['Date Occurred'].dt.month == 12)]\n",
    "nov_dec_2016_filtered = nov_dec_2016[(nov_dec_2016['Date Occurred'].dt.month == 11) | \n",
    "                                     (nov_dec_2016['Date Occurred'].dt.month == 12)]\n",
    "\n",
    "\n",
    "# Calculate the total number of thefts for November and December of each year\n",
    "total_thefts_2015 = len(nov_dec_2015)\n",
    "total_thefts_2016 = len(nov_dec_2016)\n",
    "\n",
    "# Compare the totals\n",
    "if total_thefts_2016 > total_thefts_2015:\n",
    "    trend = \"an increase\"\n",
    "elif total_thefts_2016 < total_thefts_2015:\n",
    "    trend = \"a decrease\"\n",
    "else:\n",
    "    trend = \"no change\"\n",
    "\n",
    "print(f\"There is {trend} in motor vehicle thefts between November and December of 2015 and 2016.\")\n",
    "print(f\"Total thefts in 2015: {total_thefts_2015}\")\n",
    "print(f\"Total thefts in 2016: {total_thefts_2016}\")"
   ]
  },
  {
   "cell_type": "markdown",
   "id": "b2f42417-6551-40b8-829e-efc8db062ca9",
   "metadata": {},
   "source": [
    "2. Is there a noticeable increase or decrease in thefts between 2015 and 2016?"
   ]
  },
  {
   "cell_type": "code",
   "execution_count": null,
   "id": "904c3bcc-bc65-4c22-a71d-e26249e3138c",
   "metadata": {},
   "outputs": [],
   "source": [
    "\n",
    "import pandas as pd\n",
    "\n",
    "\n",
    "data = pd.read_csv('C:/Users/venki/Downloads/_MVT NOV-DEC 2015.csv')\n",
    "data = pd.read_csv('C:/Users/venki/Downloads/_MVT NOV-DEC 2016.csv')\n",
    "\n",
    "#'Date Occurred' to datetime format\n",
    "data['Date Occurred'] = pd.to_datetime(data['Date Occurred'])\n",
    "\n",
    "# Filter the data for the years 2015 and 2016\n",
    "thefts_2015 = data[data['Date Occurred'].dt.year == 2015]\n",
    "thefts_2016 = data[data['Date Occurred'].dt.year == 2016]\n",
    "\n",
    "# Calculate the total number of thefts for each year\n",
    "total_thefts_2015 = len(thefts_2015)\n",
    "total_thefts_2016 = len(thefts_2016)\n",
    "\n",
    "# Compare the totals\n",
    "if total_thefts_2016 > total_thefts_2015:\n",
    "    trend = \"an increase\"\n",
    "elif total_thefts_2016 < total_thefts_2015:\n",
    "    trend = \"a decrease\"\n",
    "else:\n",
    "    trend = \"no change\"\n",
    "\n",
    "# Output the result\n",
    "print(f\"There is {trend} in motor vehicle thefts between 2015 and 2016.\")\n",
    "print(f\"Total thefts in 2015: {total_thefts_2015}\")\n",
    "print(f\"Total thefts in 2016: {total_thefts_2016}\")"
   ]
  },
  {
   "cell_type": "markdown",
   "id": "f5320d69-d9ed-4ee0-99f9-a0aaf1875e5b",
   "metadata": {},
   "source": [
    "3. What time of day do most motor vehicle thefts occur?"
   ]
  },
  {
   "cell_type": "code",
   "execution_count": null,
   "id": "c9103bb6-e065-401f-8ae0-1a01527eec8c",
   "metadata": {},
   "outputs": [],
   "source": [
    "import pandas as pd\n",
    "\n",
    "\n",
    "data = pd.read_csv('C:/Users/venki/Downloads/_MVT NOV-DEC 2015.csv')\n",
    "data = pd.read_csv('C:/Users/venki/Downloads/_MVT NOV-DEC 2016.csv')\n",
    "\n",
    "# Group by the 'Time Frame' column and count the number of thefts in each time frame\n",
    "thefts_by_time_frame = data.groupby('Time Frame').size()\n",
    "\n",
    "# Sort by the number of thefts to find the most common time frame\n",
    "most_common_time_frame = thefts_by_time_frame.idxmax()\n",
    "most_common_theft_count = thefts_by_time_frame.max()\n",
    "\n",
    "# Output the result\n",
    "print(f\"The most common time frame for motor vehicle thefts is {most_common_time_frame}.\")\n",
    "print(f\"Number of thefts during this time frame: {most_common_theft_count}\")"
   ]
  },
  {
   "cell_type": "markdown",
   "id": "ea9e9ef7-bac2-4aa8-998d-fb52c1941514",
   "metadata": {},
   "source": [
    "4. Are there specific hours during the day that show a higher frequency of thefts?"
   ]
  },
  {
   "cell_type": "code",
   "execution_count": null,
   "id": "8193d523-d009-417a-8c2c-664b5175d4b5",
   "metadata": {},
   "outputs": [],
   "source": [
    "import pandas as pd\n",
    "\n",
    "\n",
    "data = pd.read_csv('C:/Users/venki/Downloads/_MVT NOV-DEC 2015.csv')\n",
    "data = pd.read_csv('C:/Users/venki/Downloads/_MVT NOV-DEC 2016.csv')\n",
    "\n",
    "# Define a function to expand the 'Time Frame' into individual hours\n",
    "def expand_time_frame(time_frame):\n",
    "    # Split the time frame\n",
    "    start, end = time_frame.split(' - ')\n",
    "    \n",
    "    # Convert times to 24-hour format\n",
    "    start_hour = pd.to_datetime(start, format='%I %p').hour\n",
    "    end_hour = pd.to_datetime(end, format='%I %p').hour\n",
    "    \n",
    "    #cases where the time frame crosses midnight (e.g., 10 PM - 2 AM)\n",
    "    if end_hour == 0:\n",
    "        end_hour = 24\n",
    "    \n",
    "    # Generate a list of hours in the range\n",
    "    if start_hour > end_hour:\n",
    "    \n",
    "        hours = list(range(start_hour, 24)) + list(range(0, end_hour))\n",
    "    else:\n",
    "        hours = list(range(start_hour, end_hour))\n",
    "    \n",
    "    return hours\n",
    "\n",
    "data['Hours'] = data['Time Frame'].apply(expand_time_frame)\n",
    "\n",
    "# Flatten the list of hours into individual rows\n",
    "expanded_hours = data.explode('Hours')\n",
    "\n",
    "# Group by 'Hours' and count the number of thefts during each hour\n",
    "thefts_by_hour = expanded_hours.groupby('Hours').size()\n",
    "\n",
    "# The hour with the most thefts\n",
    "most_common_hour = thefts_by_hour.idxmax()\n",
    "most_common_theft_count = thefts_by_hour.max()\n",
    "\n",
    "# Output the result\n",
    "print(f\"The hour with the most motor vehicle thefts is {most_common_hour}:00.\")\n",
    "print(f\"Number of thefts during this hour: {most_common_theft_count}\")\n"
   ]
  },
  {
   "cell_type": "markdown",
   "id": "7a0e2092-bdac-4e81-8bbf-0445f580bd44",
   "metadata": {},
   "source": [
    "5. Which zip codes have the highest number of motor vehicle thefts?"
   ]
  },
  {
   "cell_type": "code",
   "execution_count": null,
   "id": "6722b0b2-b75b-4379-bc8d-dac297870d1e",
   "metadata": {},
   "outputs": [],
   "source": [
    "import pandas as pd\n",
    "\n",
    "# Load the CSV file into a DataFrame\n",
    "data = pd.read_csv('C:/Users/venki/Downloads/_MVT NOV-DEC 2015.csv')\n",
    "data = pd.read_csv('C:/Users/venki/Downloads/_MVT NOV-DEC 2016.csv')\n",
    "\n",
    "# Group by the 'ZIP' column and count the number of thefts in each ZIP code\n",
    "thefts_by_zip = data.groupby('ZIP').size()\n",
    "\n",
    "# Sort the results in descending order to find the ZIP codes with the most thefts\n",
    "thefts_by_zip_sorted = thefts_by_zip.sort_values(ascending=False)\n",
    "\n",
    "# Display the top 5 ZIP codes with the most thefts\n",
    "print(\"Top 5 ZIP codes with the highest number of motor vehicle thefts:\")\n",
    "print(thefts_by_zip_sorted.head(5))\n",
    "\n",
    "print(\"\\nAll ZIP codes with the number of motor vehicle thefts:\")\n",
    "print(thefts_by_zip_sorted)"
   ]
  },
  {
   "cell_type": "markdown",
   "id": "aa702bf2-bbef-41b6-adfd-054dae6fe954",
   "metadata": {},
   "source": [
    "6. What type of premises (residential, commercial, public) are most frequently targeted for vehicle thefts?\n"
   ]
  },
  {
   "cell_type": "code",
   "execution_count": null,
   "id": "0efd4c63-a6f6-4928-9fbf-80b81abdb18f",
   "metadata": {},
   "outputs": [],
   "source": [
    "import pandas as pd\n",
    "\n",
    "data = pd.read_csv('C:/Users/venki/Downloads/_MVT NOV-DEC 2015.csv')\n",
    "data = pd.read_csv('C:/Users/venki/Downloads/_MVT NOV-DEC 2016.csv')\n",
    "\n",
    "# Group by 'PREMISE TYPE' column and count the number of thefts in each type of premises\n",
    "thefts_by_premise_type = data.groupby('PREMISE TYPE').size()\n",
    "\n",
    "# Sort the results in descending order to find the most targeted premise types\n",
    "thefts_by_premise_type_sorted = thefts_by_premise_type.sort_values(ascending=False)\n",
    "\n",
    "print(\"Premise types most frequently targeted for motor vehicle thefts:\")\n",
    "print(thefts_by_premise_type_sorted)\n",
    "\n",
    "most_common_premise_type = thefts_by_premise_type_sorted.idxmax()\n",
    "most_common_theft_count = thefts_by_premise_type_sorted.max()\n",
    "\n",
    "print(f\"\\nThe most frequently targeted premise type is {most_common_premise_type} with {most_common_theft_count} thefts.\")"
   ]
  }
 ],
 "metadata": {
  "kernelspec": {
   "display_name": "Python 3 (ipykernel)",
   "language": "python",
   "name": "python3"
  },
  "language_info": {
   "codemirror_mode": {
    "name": "ipython",
    "version": 3
   },
   "file_extension": ".py",
   "mimetype": "text/x-python",
   "name": "python",
   "nbconvert_exporter": "python",
   "pygments_lexer": "ipython3",
   "version": "3.12.4"
  }
 },
 "nbformat": 4,
 "nbformat_minor": 5
}
